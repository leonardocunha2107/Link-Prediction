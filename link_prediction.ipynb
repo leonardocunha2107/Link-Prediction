{
  "nbformat": 4,
  "nbformat_minor": 0,
  "metadata": {
    "colab": {
      "name": "link_prediction.ipynb",
      "provenance": [],
      "collapsed_sections": []
    },
    "kernelspec": {
      "name": "python3",
      "display_name": "Python 3"
    },
    "accelerator": "GPU"
  },
  "cells": [
    {
      "cell_type": "code",
      "metadata": {
        "id": "H4ezpSx3UQ0T",
        "colab_type": "code",
        "colab": {}
      },
      "source": [
        "%%capture\n",
        "!pip install torch_geometric\n",
        "!pip install torch_sparse\n",
        "!pip install torch_scatter\n",
        "!pip install torch_cluster\n",
        "!pip install torch-spline-conv\n"
      ],
      "execution_count": 0,
      "outputs": []
    },
    {
      "cell_type": "code",
      "metadata": {
        "id": "ZMKFY_L5pjx7",
        "colab_type": "code",
        "outputId": "2b6bb4dd-e39a-4c48-d132-01469fd441fc",
        "colab": {
          "base_uri": "https://localhost:8080/",
          "height": 153
        }
      },
      "source": [
        "!git clone https://github.com/leonardocunha2107/Link-Prediction\n",
        "!mv Link-Prediction/* .\n",
        "!rm -rf Link-Prediction\n",
        "\n",
        "num_nodes=33226"
      ],
      "execution_count": 0,
      "outputs": [
        {
          "output_type": "stream",
          "text": [
            "Cloning into 'Link-Prediction'...\n",
            "remote: Enumerating objects: 36, done.\u001b[K\n",
            "remote: Counting objects:   2% (1/36)\u001b[K\rremote: Counting objects:   5% (2/36)\u001b[K\rremote: Counting objects:   8% (3/36)\u001b[K\rremote: Counting objects:  11% (4/36)\u001b[K\rremote: Counting objects:  13% (5/36)\u001b[K\rremote: Counting objects:  16% (6/36)\u001b[K\rremote: Counting objects:  19% (7/36)\u001b[K\rremote: Counting objects:  22% (8/36)\u001b[K\rremote: Counting objects:  25% (9/36)\u001b[K\rremote: Counting objects:  27% (10/36)\u001b[K\rremote: Counting objects:  30% (11/36)\u001b[K\rremote: Counting objects:  33% (12/36)\u001b[K\rremote: Counting objects:  36% (13/36)\u001b[K\rremote: Counting objects:  38% (14/36)\u001b[K\rremote: Counting objects:  41% (15/36)\u001b[K\rremote: Counting objects:  44% (16/36)\u001b[K\rremote: Counting objects:  47% (17/36)\u001b[K\rremote: Counting objects:  50% (18/36)\u001b[K\rremote: Counting objects:  52% (19/36)\u001b[K\rremote: Counting objects:  55% (20/36)\u001b[K\rremote: Counting objects:  58% (21/36)\u001b[K\rremote: Counting objects:  61% (22/36)\u001b[K\rremote: Counting objects:  63% (23/36)\u001b[K\rremote: Counting objects:  66% (24/36)\u001b[K\rremote: Counting objects:  69% (25/36)\u001b[K\rremote: Counting objects:  72% (26/36)\u001b[K\rremote: Counting objects:  75% (27/36)\u001b[K\rremote: Counting objects:  77% (28/36)\u001b[K\rremote: Counting objects:  80% (29/36)\u001b[K\rremote: Counting objects:  83% (30/36)\u001b[K\rremote: Counting objects:  86% (31/36)\u001b[K\rremote: Counting objects:  88% (32/36)\u001b[K\rremote: Counting objects:  91% (33/36)\u001b[K\rremote: Counting objects:  94% (34/36)\u001b[K\rremote: Counting objects:  97% (35/36)\u001b[K\rremote: Counting objects: 100% (36/36)\u001b[K\rremote: Counting objects: 100% (36/36), done.\u001b[K\n",
            "remote: Compressing objects: 100% (28/28), done.\u001b[K\n",
            "remote: Total 36 (delta 10), reused 32 (delta 6), pack-reused 0\n",
            "Unpacking objects: 100% (36/36), done.\n",
            "mv: cannot move 'Link-Prediction/node_information' to './node_information': Directory not empty\n",
            "mv: cannot move 'Link-Prediction/__pycache__' to './__pycache__': Directory not empty\n"
          ],
          "name": "stdout"
        }
      ]
    },
    {
      "cell_type": "code",
      "metadata": {
        "id": "VQiDsfblscrU",
        "colab_type": "code",
        "colab": {}
      },
      "source": [
        "import torch\n",
        "import torch.nn as nn \n",
        "from sklearn.linear_model import LogisticRegression\n",
        "import numpy as np\n",
        "from torch_cluster import random_walk\n",
        "\n",
        "EPS = 1e-15\n",
        "\n",
        "\n",
        "class Node2Vec(torch.nn.Module):\n",
        "    r\"\"\"The Node2Vec model from the\n",
        "    `\"node2vec: Scalable Feature Learning for Networks\"\n",
        "    <https://arxiv.org/abs/1607.00653>`_ paper where random walks of\n",
        "    length :obj:`walk_length` are sampled in a given graph, and node embeddings\n",
        "    are learned via negative sampling optimization.\n",
        "\n",
        "    Args:\n",
        "        num_nodes (int): The number of nodes.\n",
        "        embedding_dim (int): The size of each embedding vector.\n",
        "        walk_length (int): The walk length.\n",
        "        context_size (int): The actual context size which is considered for\n",
        "            positive samples. This parameter increases the effective sampling\n",
        "            rate by reusing samples across different source nodes.\n",
        "        walks_per_node (int, optional): The number of walks to sample for each\n",
        "            node. (default: :obj:`1`)\n",
        "        p (float, optional): Likelihood of immediately revisiting a node in the\n",
        "            walk. (default: :obj:`1`)\n",
        "        q (float, optional): Control parameter to interpolate between\n",
        "            breadth-first strategy and depth-first strategy (default: :obj:`1`)\n",
        "        num_negative_samples (int, optional): The number of negative samples to\n",
        "            use for each node. If set to :obj:`None`, this parameter gets set\n",
        "            to :obj:`context_size - 1`. (default: :obj:`None`)\n",
        "    \"\"\"\n",
        "\n",
        "    def __init__(self, num_nodes, embedding_dim, walk_length, context_size,text_embed,\n",
        "                 walks_per_node=1, p=1, q=1, num_negative_samples=None,embed_layers=2):\n",
        "        super(Node2Vec, self).__init__()\n",
        "        assert walk_length >= context_size\n",
        "        if type(text_embed)==str:\n",
        "            text_tensor=torch.tensor(np.load(text_embed))\n",
        "        else:\n",
        "            text_tensor=torch.tensor(text_embed)\n",
        "        self.text_embed=nn.Embedding.from_pretrained(text_tensor)\n",
        "        module_list=[nn.Linear(text_tensor.shape[1],embedding_dim)]+ [nn.ReLU(),nn.Linear(embedding_dim,embedding_dim)]*(embed_layers-1)\n",
        "        self.embedder=nn.Sequential(*module_list)\n",
        "        \n",
        "        self.num_nodes = num_nodes\n",
        "        self.embedding_dim = embedding_dim\n",
        "        self.walk_length = walk_length - 1\n",
        "        self.context_size = context_size\n",
        "        self.walks_per_node = walks_per_node\n",
        "        self.p = p\n",
        "        self.q = q\n",
        "        self.num_negative_samples = num_negative_samples\n",
        "\n",
        "        self.embedding = torch.nn.Embedding(num_nodes, embedding_dim)\n",
        "\n",
        "        self.reset_parameters()\n",
        "\n",
        "    def reset_parameters(self):\n",
        "        self.embedding.reset_parameters()\n",
        "\n",
        "    def forward(self, subset):\n",
        "        \"\"\"Returns the embeddings for the nodes in :obj:`subset`.\"\"\"\n",
        "        with torch.no_grad():\n",
        "            x=self.text_embed(subset)\n",
        "        return self.embedder(x)\n",
        "\n",
        "\n",
        "    def __random_walk__(self, edge_index, subset=None):\n",
        "        if subset is None:\n",
        "            subset = torch.arange(self.num_nodes, device=edge_index.device)\n",
        "        subset = subset.repeat(self.walks_per_node)\n",
        "\n",
        "        rw = random_walk(edge_index[0], edge_index[1], subset,\n",
        "                         self.walk_length, self.p, self.q, self.num_nodes)\n",
        "\n",
        "        walks = []\n",
        "        num_walks_per_rw = 1 + self.walk_length + 1 - self.context_size\n",
        "        for j in range(num_walks_per_rw):\n",
        "            walks.append(rw[:, j:j + self.context_size])\n",
        "        return torch.cat(walks, dim=0)\n",
        "\n",
        "    def loss(self, edge_index, subset=None):\n",
        "        r\"\"\"Computes the loss for the nodes in :obj:`subset` with negative\n",
        "        sampling.\"\"\"\n",
        "        walk = self.__random_walk__(edge_index, subset)\n",
        "        start, rest = walk[:, 0], walk[:, 1:].contiguous()\n",
        "        with torch.no_grad():\n",
        "            h_start,h_rest=self.text_embed[start],self.text_embed[rest]\n",
        "        h_start = self.embedder(h_start).view(\n",
        "            walk.size(0), 1, self.embedding_dim)\n",
        "        h_rest = self.embedder(h_rest.view(-1)).view(\n",
        "            walk.size(0), rest.size(1), self.embedding_dim)\n",
        "\n",
        "        out = (h_start * h_rest).sum(dim=-1).view(-1)\n",
        "        pos_loss = -torch.log(torch.sigmoid(out) + EPS).mean()\n",
        "\n",
        "        # Negative sampling loss.\n",
        "        num_negative_samples = self.num_negative_samples\n",
        "        if num_negative_samples is None:\n",
        "            num_negative_samples = rest.size(1)\n",
        "\n",
        "        neg_sample = torch.randint(self.num_nodes,\n",
        "                                   (walk.size(0), num_negative_samples),\n",
        "                                   dtype=torch.long, device=edge_index.device)\n",
        "        with torch.no_grad():\n",
        "            h_neg_rest=self.text_embed(neg_sample)\n",
        "        h_neg_rest = self.embedder(h_neg_rest)\n",
        "\n",
        "        out = (h_start * h_neg_rest).sum(dim=-1).view(-1)\n",
        "        neg_loss = -torch.log(1 - torch.sigmoid(out) + EPS).mean()\n",
        "\n",
        "        return pos_loss + neg_loss\n",
        "\n",
        "\n",
        "    def test(self, train_z, train_y, test_z, test_y, solver='lbfgs',\n",
        "             multi_class='auto', *args, **kwargs):\n",
        "        r\"\"\"Evaluates latent space quality via a logistic regression downstream\n",
        "        task.\"\"\"\n",
        "        clf = LogisticRegression(solver=solver, multi_class=multi_class, *args,\n",
        "                                 **kwargs).fit(train_z.detach().cpu().numpy(),\n",
        "                                               train_y.detach().cpu().numpy())\n",
        "        return clf.score(test_z.detach().cpu().numpy(),\n",
        "                         test_y.detach().cpu().numpy())\n",
        "\n",
        "\n",
        "    def __repr__(self):\n",
        "        return '{}({}, {}, p={}, q={})'.format(\n",
        "            self.__class__.__name__, self.num_nodes, self.embedding_dim,\n",
        "            self.p, self.q)"
      ],
      "execution_count": 0,
      "outputs": []
    },
    {
      "cell_type": "code",
      "metadata": {
        "id": "DNRFy8cmV7n0",
        "colab_type": "code",
        "outputId": "615d1ab4-dd87-41b2-fb55-4da5d97b5103",
        "colab": {
          "base_uri": "https://localhost:8080/",
          "height": 391
        }
      },
      "source": [
        "import torch\n",
        "from data import  get_edge_tensor\n",
        "from torch_geometric.nn.models import Node2Vec\n",
        "\n",
        "device  = torch.device(\"cuda\")\n",
        "d=128\n",
        "num_nodes=33226\n",
        "n2v=Node2Vec(num_nodes+2,d,5,3)#,'text_embeds.npy',walks_per_node=2).to(device)\n",
        "optimizer=torch.optim.Adam(n2v.parameters(),lr=1e-2)\n",
        "edges_tensor=get_edge_tensor(device=device)\n",
        "print(edges_tensor.shape)\n",
        "for i in range(19):\n",
        "    loss=n2v.loss(edges_tensor)\n",
        "    loss.backward(retain_graph=True)\n",
        "    optimizer.step()\n",
        "    print(f\"Loss {loss.data}\")\n",
        "    "
      ],
      "execution_count": 0,
      "outputs": [
        {
          "output_type": "stream",
          "text": [
            "torch.Size([2, 567246])\n"
          ],
          "name": "stdout"
        },
        {
          "output_type": "error",
          "ename": "RuntimeError",
          "evalue": "ignored",
          "traceback": [
            "\u001b[0;31m---------------------------------------------------------------------------\u001b[0m",
            "\u001b[0;31mRuntimeError\u001b[0m                              Traceback (most recent call last)",
            "\u001b[0;32m<ipython-input-1-829c50dc19bd>\u001b[0m in \u001b[0;36m<module>\u001b[0;34m()\u001b[0m\n\u001b[1;32m     11\u001b[0m \u001b[0mprint\u001b[0m\u001b[0;34m(\u001b[0m\u001b[0medges_tensor\u001b[0m\u001b[0;34m.\u001b[0m\u001b[0mshape\u001b[0m\u001b[0;34m)\u001b[0m\u001b[0;34m\u001b[0m\u001b[0;34m\u001b[0m\u001b[0m\n\u001b[1;32m     12\u001b[0m \u001b[0;32mfor\u001b[0m \u001b[0mi\u001b[0m \u001b[0;32min\u001b[0m \u001b[0mrange\u001b[0m\u001b[0;34m(\u001b[0m\u001b[0;36m19\u001b[0m\u001b[0;34m)\u001b[0m\u001b[0;34m:\u001b[0m\u001b[0;34m\u001b[0m\u001b[0;34m\u001b[0m\u001b[0m\n\u001b[0;32m---> 13\u001b[0;31m     \u001b[0mloss\u001b[0m\u001b[0;34m=\u001b[0m\u001b[0mn2v\u001b[0m\u001b[0;34m.\u001b[0m\u001b[0mloss\u001b[0m\u001b[0;34m(\u001b[0m\u001b[0medges_tensor\u001b[0m\u001b[0;34m)\u001b[0m\u001b[0;34m\u001b[0m\u001b[0;34m\u001b[0m\u001b[0m\n\u001b[0m\u001b[1;32m     14\u001b[0m     \u001b[0mloss\u001b[0m\u001b[0;34m.\u001b[0m\u001b[0mbackward\u001b[0m\u001b[0;34m(\u001b[0m\u001b[0mretain_graph\u001b[0m\u001b[0;34m=\u001b[0m\u001b[0;32mTrue\u001b[0m\u001b[0;34m)\u001b[0m\u001b[0;34m\u001b[0m\u001b[0;34m\u001b[0m\u001b[0m\n\u001b[1;32m     15\u001b[0m     \u001b[0moptimizer\u001b[0m\u001b[0;34m.\u001b[0m\u001b[0mstep\u001b[0m\u001b[0;34m(\u001b[0m\u001b[0;34m)\u001b[0m\u001b[0;34m\u001b[0m\u001b[0;34m\u001b[0m\u001b[0m\n",
            "\u001b[0;32m/usr/local/lib/python3.6/dist-packages/torch_geometric/nn/models/node2vec.py\u001b[0m in \u001b[0;36mloss\u001b[0;34m(self, edge_index, subset)\u001b[0m\n\u001b[1;32m     75\u001b[0m         \u001b[0mstart\u001b[0m\u001b[0;34m,\u001b[0m \u001b[0mrest\u001b[0m \u001b[0;34m=\u001b[0m \u001b[0mwalk\u001b[0m\u001b[0;34m[\u001b[0m\u001b[0;34m:\u001b[0m\u001b[0;34m,\u001b[0m \u001b[0;36m0\u001b[0m\u001b[0;34m]\u001b[0m\u001b[0;34m,\u001b[0m \u001b[0mwalk\u001b[0m\u001b[0;34m[\u001b[0m\u001b[0;34m:\u001b[0m\u001b[0;34m,\u001b[0m \u001b[0;36m1\u001b[0m\u001b[0;34m:\u001b[0m\u001b[0;34m]\u001b[0m\u001b[0;34m.\u001b[0m\u001b[0mcontiguous\u001b[0m\u001b[0;34m(\u001b[0m\u001b[0;34m)\u001b[0m\u001b[0;34m\u001b[0m\u001b[0;34m\u001b[0m\u001b[0m\n\u001b[1;32m     76\u001b[0m \u001b[0;34m\u001b[0m\u001b[0m\n\u001b[0;32m---> 77\u001b[0;31m         h_start = self.embedding(start).view(\n\u001b[0m\u001b[1;32m     78\u001b[0m             walk.size(0), 1, self.embedding_dim)\n\u001b[1;32m     79\u001b[0m         h_rest = self.embedding(rest.view(-1)).view(\n",
            "\u001b[0;32m/usr/local/lib/python3.6/dist-packages/torch/nn/modules/module.py\u001b[0m in \u001b[0;36m__call__\u001b[0;34m(self, *input, **kwargs)\u001b[0m\n\u001b[1;32m    539\u001b[0m             \u001b[0mresult\u001b[0m \u001b[0;34m=\u001b[0m \u001b[0mself\u001b[0m\u001b[0;34m.\u001b[0m\u001b[0m_slow_forward\u001b[0m\u001b[0;34m(\u001b[0m\u001b[0;34m*\u001b[0m\u001b[0minput\u001b[0m\u001b[0;34m,\u001b[0m \u001b[0;34m**\u001b[0m\u001b[0mkwargs\u001b[0m\u001b[0;34m)\u001b[0m\u001b[0;34m\u001b[0m\u001b[0;34m\u001b[0m\u001b[0m\n\u001b[1;32m    540\u001b[0m         \u001b[0;32melse\u001b[0m\u001b[0;34m:\u001b[0m\u001b[0;34m\u001b[0m\u001b[0;34m\u001b[0m\u001b[0m\n\u001b[0;32m--> 541\u001b[0;31m             \u001b[0mresult\u001b[0m \u001b[0;34m=\u001b[0m \u001b[0mself\u001b[0m\u001b[0;34m.\u001b[0m\u001b[0mforward\u001b[0m\u001b[0;34m(\u001b[0m\u001b[0;34m*\u001b[0m\u001b[0minput\u001b[0m\u001b[0;34m,\u001b[0m \u001b[0;34m**\u001b[0m\u001b[0mkwargs\u001b[0m\u001b[0;34m)\u001b[0m\u001b[0;34m\u001b[0m\u001b[0;34m\u001b[0m\u001b[0m\n\u001b[0m\u001b[1;32m    542\u001b[0m         \u001b[0;32mfor\u001b[0m \u001b[0mhook\u001b[0m \u001b[0;32min\u001b[0m \u001b[0mself\u001b[0m\u001b[0;34m.\u001b[0m\u001b[0m_forward_hooks\u001b[0m\u001b[0;34m.\u001b[0m\u001b[0mvalues\u001b[0m\u001b[0;34m(\u001b[0m\u001b[0;34m)\u001b[0m\u001b[0;34m:\u001b[0m\u001b[0;34m\u001b[0m\u001b[0;34m\u001b[0m\u001b[0m\n\u001b[1;32m    543\u001b[0m             \u001b[0mhook_result\u001b[0m \u001b[0;34m=\u001b[0m \u001b[0mhook\u001b[0m\u001b[0;34m(\u001b[0m\u001b[0mself\u001b[0m\u001b[0;34m,\u001b[0m \u001b[0minput\u001b[0m\u001b[0;34m,\u001b[0m \u001b[0mresult\u001b[0m\u001b[0;34m)\u001b[0m\u001b[0;34m\u001b[0m\u001b[0;34m\u001b[0m\u001b[0m\n",
            "\u001b[0;32m/usr/local/lib/python3.6/dist-packages/torch/nn/modules/sparse.py\u001b[0m in \u001b[0;36mforward\u001b[0;34m(self, input)\u001b[0m\n\u001b[1;32m    112\u001b[0m         return F.embedding(\n\u001b[1;32m    113\u001b[0m             \u001b[0minput\u001b[0m\u001b[0;34m,\u001b[0m \u001b[0mself\u001b[0m\u001b[0;34m.\u001b[0m\u001b[0mweight\u001b[0m\u001b[0;34m,\u001b[0m \u001b[0mself\u001b[0m\u001b[0;34m.\u001b[0m\u001b[0mpadding_idx\u001b[0m\u001b[0;34m,\u001b[0m \u001b[0mself\u001b[0m\u001b[0;34m.\u001b[0m\u001b[0mmax_norm\u001b[0m\u001b[0;34m,\u001b[0m\u001b[0;34m\u001b[0m\u001b[0;34m\u001b[0m\u001b[0m\n\u001b[0;32m--> 114\u001b[0;31m             self.norm_type, self.scale_grad_by_freq, self.sparse)\n\u001b[0m\u001b[1;32m    115\u001b[0m \u001b[0;34m\u001b[0m\u001b[0m\n\u001b[1;32m    116\u001b[0m     \u001b[0;32mdef\u001b[0m \u001b[0mextra_repr\u001b[0m\u001b[0;34m(\u001b[0m\u001b[0mself\u001b[0m\u001b[0;34m)\u001b[0m\u001b[0;34m:\u001b[0m\u001b[0;34m\u001b[0m\u001b[0;34m\u001b[0m\u001b[0m\n",
            "\u001b[0;32m/usr/local/lib/python3.6/dist-packages/torch/nn/functional.py\u001b[0m in \u001b[0;36membedding\u001b[0;34m(input, weight, padding_idx, max_norm, norm_type, scale_grad_by_freq, sparse)\u001b[0m\n\u001b[1;32m   1482\u001b[0m         \u001b[0;31m# remove once script supports set_grad_enabled\u001b[0m\u001b[0;34m\u001b[0m\u001b[0;34m\u001b[0m\u001b[0;34m\u001b[0m\u001b[0m\n\u001b[1;32m   1483\u001b[0m         \u001b[0m_no_grad_embedding_renorm_\u001b[0m\u001b[0;34m(\u001b[0m\u001b[0mweight\u001b[0m\u001b[0;34m,\u001b[0m \u001b[0minput\u001b[0m\u001b[0;34m,\u001b[0m \u001b[0mmax_norm\u001b[0m\u001b[0;34m,\u001b[0m \u001b[0mnorm_type\u001b[0m\u001b[0;34m)\u001b[0m\u001b[0;34m\u001b[0m\u001b[0;34m\u001b[0m\u001b[0m\n\u001b[0;32m-> 1484\u001b[0;31m     \u001b[0;32mreturn\u001b[0m \u001b[0mtorch\u001b[0m\u001b[0;34m.\u001b[0m\u001b[0membedding\u001b[0m\u001b[0;34m(\u001b[0m\u001b[0mweight\u001b[0m\u001b[0;34m,\u001b[0m \u001b[0minput\u001b[0m\u001b[0;34m,\u001b[0m \u001b[0mpadding_idx\u001b[0m\u001b[0;34m,\u001b[0m \u001b[0mscale_grad_by_freq\u001b[0m\u001b[0;34m,\u001b[0m \u001b[0msparse\u001b[0m\u001b[0;34m)\u001b[0m\u001b[0;34m\u001b[0m\u001b[0;34m\u001b[0m\u001b[0m\n\u001b[0m\u001b[1;32m   1485\u001b[0m \u001b[0;34m\u001b[0m\u001b[0m\n\u001b[1;32m   1486\u001b[0m \u001b[0;34m\u001b[0m\u001b[0m\n",
            "\u001b[0;31mRuntimeError\u001b[0m: Expected object of device type cuda but got device type cpu for argument #1 'self' in call to _th_index_select"
          ]
        }
      ]
    },
    {
      "cell_type": "code",
      "metadata": {
        "id": "sXF7uSrC4NM5",
        "colab_type": "code",
        "colab": {}
      },
      "source": [
        "from draw import draw\n",
        "\n",
        "draw(n2v(torch.arange(num_nodes)))"
      ],
      "execution_count": 0,
      "outputs": []
    },
    {
      "cell_type": "code",
      "metadata": {
        "id": "unCCaJI85sTp",
        "colab_type": "code",
        "outputId": "476640a5-283d-445c-d146-458a20090a15",
        "colab": {
          "base_uri": "https://localhost:8080/",
          "height": 72
        }
      },
      "source": [
        "from sklearn.linear_model import LogisticRegression\n",
        "\n",
        "lr=LogisticRegression()\n",
        "lr.fit(x,y)\n"
      ],
      "execution_count": 0,
      "outputs": [
        {
          "output_type": "stream",
          "text": [
            "/usr/local/lib/python3.6/dist-packages/sklearn/linear_model/logistic.py:432: FutureWarning: Default solver will be changed to 'lbfgs' in 0.22. Specify a solver to silence this warning.\n",
            "  FutureWarning)\n"
          ],
          "name": "stderr"
        }
      ]
    }
  ]
}